{
 "cells": [
  {
   "cell_type": "code",
   "execution_count": 5,
   "id": "7d4ed5ad-3692-492b-92cb-c8f616588889",
   "metadata": {
    "tags": []
   },
   "outputs": [
    {
     "name": "stdout",
     "output_type": "stream",
     "text": [
      "Separation into 5 classes completed.\n"
     ]
    }
   ],
   "source": [
    "import os\n",
    "import shutil\n",
    "import pandas as pd\n",
    "\n",
    "def separate_classes(input_folder, output_folder, csv_path, num_classes=5):\n",
    "    # Create output folder if it doesn't exist\n",
    "    if not os.path.exists(output_folder):\n",
    "        os.makedirs(output_folder)\n",
    "\n",
    "    # Read the CSV file\n",
    "    df = pd.read_csv(csv_path)\n",
    "\n",
    "    # Move images to their respective class folders\n",
    "    for _, row in df.iterrows():\n",
    "        image_id = row['Image_ID']\n",
    "        class_id = row['Class_ID']\n",
    "\n",
    "        # Check for both JPG and PNG file extensions\n",
    "        for extension in ['jpeg', 'png']:\n",
    "            source_path = os.path.join(input_folder, f'{image_id}.{extension}')\n",
    "            if os.path.exists(source_path):\n",
    "                break  # Use the first existing file with either extension\n",
    "\n",
    "        if os.path.exists(source_path):\n",
    "            destination_folder = os.path.join(output_folder, f'class_{class_id}')\n",
    "\n",
    "            # Check if the destination folder already exists\n",
    "            if not os.path.exists(destination_folder):\n",
    "                os.makedirs(destination_folder)\n",
    "\n",
    "            shutil.move(source_path, destination_folder)\n",
    "        else:\n",
    "            print(f\"File not found for image ID {image_id}\")\n",
    "\n",
    "    print(f\"Separation into {num_classes} classes completed.\")\n",
    "\n",
    "# Example usage:\n",
    "input_folder = r'E:\\Dream to Higher study\\My personal research\\Retionapthy\\70k\\resized_train\\resized_train'\n",
    "output_folder = r'E:\\Dream to Higher study\\My personal research\\Retionapthy\\70k\\resized_train\\output'\n",
    "csv_path = r'E:\\Dream to Higher study\\My personal research\\Retionapthy\\70k\\resized_train\\train.csv'\n",
    "num_classes = 5\n",
    "\n",
    "separate_classes(input_folder, output_folder, csv_path, num_classes)\n"
   ]
  },
  {
   "cell_type": "code",
   "execution_count": null,
   "id": "47f26954-fec5-4c3f-a32f-8221a2c5ecb4",
   "metadata": {},
   "outputs": [],
   "source": []
  }
 ],
 "metadata": {
  "kernelspec": {
   "display_name": "Python 3 (ipykernel)",
   "language": "python",
   "name": "python3"
  },
  "language_info": {
   "codemirror_mode": {
    "name": "ipython",
    "version": 3
   },
   "file_extension": ".py",
   "mimetype": "text/x-python",
   "name": "python",
   "nbconvert_exporter": "python",
   "pygments_lexer": "ipython3",
   "version": "3.9.16"
  }
 },
 "nbformat": 4,
 "nbformat_minor": 5
}
